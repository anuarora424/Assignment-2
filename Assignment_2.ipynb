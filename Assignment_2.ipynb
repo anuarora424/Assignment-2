{
  "nbformat": 4,
  "nbformat_minor": 0,
  "metadata": {
    "colab": {
      "provenance": []
    },
    "kernelspec": {
      "name": "python3",
      "display_name": "Python 3"
    },
    "language_info": {
      "name": "python"
    }
  },
  "cells": [
    {
      "cell_type": "markdown",
      "source": [
        " 1. Discuss string slicing and provide examples ?"
      ],
      "metadata": {
        "id": "rBGZXtBUdFV0"
      }
    },
    {
      "cell_type": "markdown",
      "source": [
        "String Slicing in Python\n"
      ],
      "metadata": {
        "id": "ND4psJlOdkz7"
      }
    },
    {
      "cell_type": "code",
      "source": [
        "String slicing allows you to extract a portion (substring) of a string using its index positions. It uses a colon (:) inside square brackets\n",
        "to define the range of characters you want to extract. The general syntax is:\n"
      ],
      "metadata": {
        "id": "Iqggy74idm4L"
      },
      "execution_count": null,
      "outputs": []
    },
    {
      "cell_type": "code",
      "source": [
        "string[start:stop:step]"
      ],
      "metadata": {
        "id": "Acp7eywudxGj"
      },
      "execution_count": null,
      "outputs": []
    },
    {
      "cell_type": "code",
      "source": [
        "A. start: The index where the slice starts (inclusive). Defaults to 0 if omitted.\n",
        "B. stop: The index where the slice ends (exclusive). Defaults to the length of the string if omitted.\n",
        "C. step: The interval or \"stride\" between characters. Defaults to 1 if omitted, but can also be negative to slice in reverse."
      ],
      "metadata": {
        "id": "PieZqY16dx8C"
      },
      "execution_count": null,
      "outputs": []
    },
    {
      "cell_type": "code",
      "source": [
        "Examples"
      ],
      "metadata": {
        "id": "q1ZW3udvd3TL"
      },
      "execution_count": null,
      "outputs": []
    },
    {
      "cell_type": "code",
      "source": [
        "1. Basic Slicing Extract a substring by specifying start and stop indices:-"
      ],
      "metadata": {
        "id": "zU8BqGfAd6hy"
      },
      "execution_count": null,
      "outputs": []
    },
    {
      "cell_type": "code",
      "source": [
        "text = \"Hello, World!\"\n",
        "slice1 = text[0:5]   # From index 0 to 4 (not including 5)\n",
        "print(slice1)  # Output: Hello"
      ],
      "metadata": {
        "id": "AU4ZDeOjd_Ej"
      },
      "execution_count": null,
      "outputs": []
    },
    {
      "cell_type": "code",
      "source": [
        "2. Slicing with Step You can use the step to skip characters:"
      ],
      "metadata": {
        "id": "fNjWsKTueB6t"
      },
      "execution_count": null,
      "outputs": []
    },
    {
      "cell_type": "code",
      "source": [
        "text = \"abcdef\"\n",
        "slice2 = text[0:6:2]  # From index 0 to 5, stepping by 2\n",
        "print(slice2)  # Output: ace"
      ],
      "metadata": {
        "id": "ZCB1Z3TQeFkj"
      },
      "execution_count": null,
      "outputs": []
    },
    {
      "cell_type": "code",
      "source": [
        "3. Omitting Start or Stop If you omit the start or stop index, it defaults to the beginning or the end of the string:"
      ],
      "metadata": {
        "id": "MTCsOfdReHim"
      },
      "execution_count": null,
      "outputs": []
    },
    {
      "cell_type": "code",
      "source": [
        "text = \"Python\"\n",
        "slice3 = text[:3]  # Start from 0 to index 2\n",
        "print(slice3)  # Output: Pyt\n",
        "\n",
        "slice4 = text[3:]  # Start from index 3 to the end\n",
        "print(slice4)  # Output: hon"
      ],
      "metadata": {
        "id": "0ET9IeoMeKoE"
      },
      "execution_count": null,
      "outputs": []
    },
    {
      "cell_type": "code",
      "source": [
        "4. Negative Indexing You can use negative indices to slice from the end of the string:"
      ],
      "metadata": {
        "id": "YcLp3pq6eNlD"
      },
      "execution_count": null,
      "outputs": []
    },
    {
      "cell_type": "code",
      "source": [
        "text = \"Hello\"\n",
        "slice5 = text[-5:-2]  # Start from index -5 to -3 (not including -2)\n",
        "print(slice5)  # Output: Hel"
      ],
      "metadata": {
        "id": "8iz5gazCeQDq"
      },
      "execution_count": null,
      "outputs": []
    },
    {
      "cell_type": "code",
      "source": [
        "5. Reversing a String A common trick is to use a step of -1 to reverse the string:"
      ],
      "metadata": {
        "id": "7m-ZMhFWeR7i"
      },
      "execution_count": null,
      "outputs": []
    },
    {
      "cell_type": "code",
      "source": [
        "text = \"Python\"\n",
        "reverse_text = text[::-1]  # Reverse the string\n",
        "print(reverse_text)  # Output: nohtyP"
      ],
      "metadata": {
        "id": "VdFFp579eWhi"
      },
      "execution_count": null,
      "outputs": []
    },
    {
      "cell_type": "code",
      "source": [
        "Key Points:\n",
        "A. Inclusive of start and exclusive of stop.\n",
        "B. If step is positive, the slicing moves from left to right; if negative, it moves from right to left.\n",
        "C. Negative indices allow you to refer to positions relative to the end of the string.\n"
      ],
      "metadata": {
        "id": "VIyyPBj7eZXL"
      },
      "execution_count": null,
      "outputs": []
    },
    {
      "cell_type": "markdown",
      "source": [
        "2. Explain the key features of lists in Python?\n",
        "\n"
      ],
      "metadata": {
        "id": "181UEfD0n1N8"
      }
    },
    {
      "cell_type": "markdown",
      "source": [
        "In Python, a list is a versatile, ordered collection that can hold elements of any type (including other lists). Here are the key features of Python lists:\n",
        "\n"
      ],
      "metadata": {
        "id": "vRscM9Sv7dsK"
      }
    },
    {
      "cell_type": "code",
      "source": [
        "1. Ordered Collection"
      ],
      "metadata": {
        "id": "NLXu6mMv8CSj"
      },
      "execution_count": null,
      "outputs": []
    },
    {
      "cell_type": "code",
      "source": [
        "Lists maintain the order of elements as they are added. This means that each element can be accessed by its index, starting from 0 for the first element."
      ],
      "metadata": {
        "id": "9KAUfLVe8GA7"
      },
      "execution_count": null,
      "outputs": []
    },
    {
      "cell_type": "code",
      "source": [
        "2. Mutable"
      ],
      "metadata": {
        "id": "fD7BxruX8IYX"
      },
      "execution_count": null,
      "outputs": []
    },
    {
      "cell_type": "code",
      "source": [
        "Lists are mutable, meaning the elements within a list can be changed after the list is created. This allows adding, removing, or updating elements."
      ],
      "metadata": {
        "id": "Q6B1nrVX8KeU"
      },
      "execution_count": null,
      "outputs": []
    },
    {
      "cell_type": "code",
      "source": [
        "my_list = [1, 2, 3]\n",
        "my_list[0] = 10  # [10, 2, 3]"
      ],
      "metadata": {
        "id": "G6crYFMI8VFF"
      },
      "execution_count": null,
      "outputs": []
    },
    {
      "cell_type": "code",
      "source": [
        "3. Heterogeneous"
      ],
      "metadata": {
        "id": "R-eRn04o8XBU"
      },
      "execution_count": null,
      "outputs": []
    },
    {
      "cell_type": "code",
      "source": [
        "A list can hold elements of different data types, including integers, strings, floats, and even other lists (nested lists)."
      ],
      "metadata": {
        "id": "XSm7scYE8fEE"
      },
      "execution_count": null,
      "outputs": []
    },
    {
      "cell_type": "code",
      "source": [
        "my_list = [1, \"Hello\", 3.14, [5, 6]]"
      ],
      "metadata": {
        "id": "tfDo8tpW8l3L"
      },
      "execution_count": null,
      "outputs": []
    },
    {
      "cell_type": "code",
      "source": [
        "4. Dynamic Size"
      ],
      "metadata": {
        "id": "iyf91Idn8nRi"
      },
      "execution_count": null,
      "outputs": []
    },
    {
      "cell_type": "code",
      "source": [
        "Lists in Python do not have a fixed size. You can add or remove elements dynamically as needed."
      ],
      "metadata": {
        "id": "eA36yTUS8qvj"
      },
      "execution_count": null,
      "outputs": []
    },
    {
      "cell_type": "code",
      "source": [
        "my_list = [1, 2, 3]\n",
        "my_list.append(4)  # [1, 2, 3, 4]"
      ],
      "metadata": {
        "id": "Ww8zHNA58uDS"
      },
      "execution_count": null,
      "outputs": []
    },
    {
      "cell_type": "code",
      "source": [
        "5. Indexing and Slicing"
      ],
      "metadata": {
        "id": "DqoZpQPV8vpE"
      },
      "execution_count": null,
      "outputs": []
    },
    {
      "cell_type": "code",
      "source": [
        "You can access elements in a list using their index.\n",
        "Negative indexing is also allowed, where -1 refers to the last element, -2 to the second last, and so on."
      ],
      "metadata": {
        "id": "On0l0bEl8xej"
      },
      "execution_count": null,
      "outputs": []
    },
    {
      "cell_type": "code",
      "source": [
        "my_list = [1, 2, 3, 4]\n",
        "print(my_list[0])    # 1\n",
        "print(my_list[-1])   # 4\n",
        "print(my_list[1:3])  # [2, 3]"
      ],
      "metadata": {
        "id": "LgA9CDGf81ne"
      },
      "execution_count": null,
      "outputs": []
    },
    {
      "cell_type": "code",
      "source": [
        "6. Iterable"
      ],
      "metadata": {
        "id": "VrpCM9V683cL"
      },
      "execution_count": null,
      "outputs": []
    },
    {
      "cell_type": "code",
      "source": [
        "Lists are iterable, meaning you can loop through them using a for loop or comprehensions."
      ],
      "metadata": {
        "id": "dNrhjJHv9ZPK"
      },
      "execution_count": null,
      "outputs": []
    },
    {
      "cell_type": "code",
      "source": [
        "for item in my_list:\n",
        "    print(item)"
      ],
      "metadata": {
        "id": "yDE4qxCX9hpT"
      },
      "execution_count": null,
      "outputs": []
    },
    {
      "cell_type": "code",
      "source": [
        "7. Built-in Functions and Methods"
      ],
      "metadata": {
        "id": "XAFbWAyd9kAy"
      },
      "execution_count": null,
      "outputs": []
    },
    {
      "cell_type": "code",
      "source": [
        "Python provides many built-in functions and methods for list manipulation, including:\n",
        "A. append(): Adds an element to the end of the list.\n",
        "B. extend(): Adds elements from another list to the current list.\n",
        "C. insert(): Inserts an element at a specified position.\n",
        "D. remove(): Removes the first occurrence of a specified element.\n",
        "E. pop(): Removes and returns the element at the given index (or the last if no index is specified).\n",
        "F. sort(): Sorts the list in place.\n",
        "G. reverse(): Reverses the order of the list in place."
      ],
      "metadata": {
        "id": "eJ4p2uJA9mxE"
      },
      "execution_count": null,
      "outputs": []
    },
    {
      "cell_type": "code",
      "source": [
        "my_list.append(5)  # Adds 5 to the list\n",
        "my_list.pop()      # Removes the last element"
      ],
      "metadata": {
        "id": "hMKKkbE3_zVm"
      },
      "execution_count": null,
      "outputs": []
    },
    {
      "cell_type": "code",
      "source": [
        "8. List Comprehensions"
      ],
      "metadata": {
        "id": "P0Lo23KgAzR3"
      },
      "execution_count": null,
      "outputs": []
    },
    {
      "cell_type": "code",
      "source": [
        "A concise way to create and modify lists using a single line of code"
      ],
      "metadata": {
        "id": "RzYdCuR4A2-b"
      },
      "execution_count": null,
      "outputs": []
    },
    {
      "cell_type": "code",
      "source": [
        "squares = [x**2 for x in range(5)]  # [0, 1, 4, 9, 16]"
      ],
      "metadata": {
        "id": "wC05Na9zA5hb"
      },
      "execution_count": null,
      "outputs": []
    },
    {
      "cell_type": "code",
      "source": [
        "9. Shallow Copy vs Deep Copy"
      ],
      "metadata": {
        "id": "1M-OOrPFA8eJ"
      },
      "execution_count": null,
      "outputs": []
    },
    {
      "cell_type": "code",
      "source": [
        "Assigning a list to another variable creates a reference to the same list (shallow copy).\n",
        "To create a separate copy, use list() or copy() (shallow) or the copy module for deep copies of nested lists."
      ],
      "metadata": {
        "id": "hBy9aktKA-TJ"
      },
      "execution_count": null,
      "outputs": []
    },
    {
      "cell_type": "code",
      "source": [
        "list1 = [1, 2, 3]\n",
        "list2 = list1      # Shallow copy: both point to the same list\n",
        "list3 = list1[:]   # Deep copy: a new list is created"
      ],
      "metadata": {
        "id": "4wZ6Rd_iBBL0"
      },
      "execution_count": null,
      "outputs": []
    },
    {
      "cell_type": "code",
      "source": [
        "10. Dynamic Typing"
      ],
      "metadata": {
        "id": "b3leFj7hBDhK"
      },
      "execution_count": null,
      "outputs": []
    },
    {
      "cell_type": "code",
      "source": [
        "List elements can be reassigned to different types as needed."
      ],
      "metadata": {
        "id": "KbZaiFEsBGBM"
      },
      "execution_count": null,
      "outputs": []
    },
    {
      "cell_type": "code",
      "source": [
        "my_list = [1, 2, 3]\n",
        "my_list[0] = \"changed\"  # [\"changed\", 2, 3]"
      ],
      "metadata": {
        "id": "hiVQD1P3BH2E"
      },
      "execution_count": null,
      "outputs": []
    },
    {
      "cell_type": "markdown",
      "source": [
        "These features make lists a fundamental and flexible data structure in Python.\n"
      ],
      "metadata": {
        "id": "y_ymBMgQBP7r"
      }
    },
    {
      "cell_type": "markdown",
      "source": [
        "3.  Describe how to access modify and delete elements in a list with examples?"
      ],
      "metadata": {
        "id": "CYh8XvvvBS8R"
      }
    },
    {
      "cell_type": "markdown",
      "source": [
        "In Python, you can access, modify, and delete elements in a list using indexing, slicing, and various list methods. Below are explanations and examples for each operation:\n",
        "\n"
      ],
      "metadata": {
        "id": "Fn6cSRe4Bo0q"
      }
    },
    {
      "cell_type": "code",
      "source": [
        "1. Accessing Elements in a List"
      ],
      "metadata": {
        "id": "hip7AU-tBsgM"
      },
      "execution_count": null,
      "outputs": []
    },
    {
      "cell_type": "code",
      "source": [
        "You can access elements of a list using indexing and slicing."
      ],
      "metadata": {
        "id": "DgpWOeJvBvp0"
      },
      "execution_count": null,
      "outputs": []
    },
    {
      "cell_type": "code",
      "source": [
        "Indexing\n",
        "A. Lists are zero-indexed, meaning the first element is at index 0.\n",
        "B. You can use negative indexing to access elements from the end of the list (-1 refers to the last element).\n"
      ],
      "metadata": {
        "id": "q6xP_KJ1Bxmx"
      },
      "execution_count": null,
      "outputs": []
    },
    {
      "cell_type": "code",
      "source": [
        "Example:"
      ],
      "metadata": {
        "id": "gTVVucPCB2d7"
      },
      "execution_count": null,
      "outputs": []
    },
    {
      "cell_type": "code",
      "source": [
        "my_list = [10, 20, 30, 40, 50]\n",
        "\n",
        "# Accessing the first element\n",
        "print(my_list[0])  # Output: 10\n",
        "\n",
        "# Accessing the last element\n",
        "print(my_list[-1])  # Output: 50"
      ],
      "metadata": {
        "colab": {
          "base_uri": "https://localhost:8080/"
        },
        "id": "eqqBB6vHB7vr",
        "outputId": "f73353b5-ea78-4e2c-e92a-aaeebf1feb0d"
      },
      "execution_count": null,
      "outputs": [
        {
          "output_type": "stream",
          "name": "stdout",
          "text": [
            "10\n",
            "50\n"
          ]
        }
      ]
    },
    {
      "cell_type": "code",
      "source": [
        "Slicing\n",
        "A. You can access a range of elements using the slice notation list[start:end].\n",
        "B. start is inclusive, and end is exclusive."
      ],
      "metadata": {
        "id": "qBoyVkcaB830"
      },
      "execution_count": null,
      "outputs": []
    },
    {
      "cell_type": "code",
      "source": [
        "Example"
      ],
      "metadata": {
        "id": "Zm7vOVrsCm46"
      },
      "execution_count": null,
      "outputs": []
    },
    {
      "cell_type": "code",
      "source": [
        "my_list = [10, 20, 30, 40, 50]\n",
        "\n",
        "# Accessing a slice of the list\n",
        "print(my_list[1:4])  # Output: [20, 30, 40]"
      ],
      "metadata": {
        "colab": {
          "base_uri": "https://localhost:8080/"
        },
        "id": "wt0B3yOzCwPK",
        "outputId": "e0c36592-7d85-4f57-c6bc-2e688ae83a37"
      },
      "execution_count": null,
      "outputs": [
        {
          "output_type": "stream",
          "name": "stdout",
          "text": [
            "[20, 30, 40]\n"
          ]
        }
      ]
    },
    {
      "cell_type": "code",
      "source": [
        "2. Modifying Elements in a List"
      ],
      "metadata": {
        "id": "CUCKxTh8C1_T"
      },
      "execution_count": null,
      "outputs": []
    },
    {
      "cell_type": "code",
      "source": [
        "You can modify elements by assigning new values to specific indices or ranges of the list.\n",
        "\n",
        "Modify a Single Element\n",
        "You can directly assign a new value to an index."
      ],
      "metadata": {
        "id": "-kp2F5LkDBVD"
      },
      "execution_count": null,
      "outputs": []
    },
    {
      "cell_type": "code",
      "source": [
        "Example:"
      ],
      "metadata": {
        "id": "AkPXUVCaDGdy"
      },
      "execution_count": null,
      "outputs": []
    },
    {
      "cell_type": "code",
      "source": [
        "my_list = [10, 20, 30, 40, 50]\n",
        "\n",
        "# Modify the second element\n",
        "my_list[1] = 25\n",
        "print(my_list)  # Output: [10, 25, 30, 40, 50]"
      ],
      "metadata": {
        "colab": {
          "base_uri": "https://localhost:8080/"
        },
        "id": "FSTbSW0WDOvS",
        "outputId": "071c0928-7e3c-4908-f64d-18644718ab95"
      },
      "execution_count": null,
      "outputs": [
        {
          "output_type": "stream",
          "name": "stdout",
          "text": [
            "[10, 25, 30, 40, 50]\n"
          ]
        }
      ]
    },
    {
      "cell_type": "code",
      "source": [
        "Modify Multiple Elements (Slicing)"
      ],
      "metadata": {
        "id": "9CEKOekFDP60"
      },
      "execution_count": null,
      "outputs": []
    },
    {
      "cell_type": "code",
      "source": [
        "You can modify a range of elements by assigning new values to a slice of the list."
      ],
      "metadata": {
        "id": "0IMZZ4JXD-SI"
      },
      "execution_count": null,
      "outputs": []
    },
    {
      "cell_type": "code",
      "source": [
        "Example:"
      ],
      "metadata": {
        "id": "ZqTbuKouEC2E"
      },
      "execution_count": null,
      "outputs": []
    },
    {
      "cell_type": "code",
      "source": [
        "my_list = [10, 20, 30, 40, 50]\n",
        "\n",
        "# Modify elements from index 1 to 3\n",
        "my_list[1:4] = [21, 31, 41]\n",
        "print(my_list)  # Output: [10, 21, 31, 41, 50]"
      ],
      "metadata": {
        "colab": {
          "base_uri": "https://localhost:8080/"
        },
        "id": "9oPHN6TiEDz8",
        "outputId": "ba746d9c-3b2c-4624-a231-865af09d8b0d"
      },
      "execution_count": null,
      "outputs": [
        {
          "output_type": "stream",
          "name": "stdout",
          "text": [
            "[10, 21, 31, 41, 50]\n"
          ]
        }
      ]
    },
    {
      "cell_type": "code",
      "source": [
        "3. Deleting Elements in a List"
      ],
      "metadata": {
        "id": "4TxeLU6CEGoS"
      },
      "execution_count": null,
      "outputs": []
    },
    {
      "cell_type": "code",
      "source": [
        "You can delete elements using the del statement, remove() method, pop() method, or by assigning an empty list to a slice."
      ],
      "metadata": {
        "id": "8IlyrFpSEMOK"
      },
      "execution_count": null,
      "outputs": []
    },
    {
      "cell_type": "code",
      "source": [
        "del Statement\n",
        "The del statement removes an element at a specific index."
      ],
      "metadata": {
        "id": "Jp3vv_bQETmJ"
      },
      "execution_count": null,
      "outputs": []
    },
    {
      "cell_type": "code",
      "source": [
        "Example:"
      ],
      "metadata": {
        "id": "UZX4S9JeEdyd"
      },
      "execution_count": null,
      "outputs": []
    },
    {
      "cell_type": "code",
      "source": [
        "my_list = [10, 20, 30, 40, 50]\n",
        "\n",
        "# Delete the third element\n",
        "del my_list[2]\n",
        "print(my_list)  # Output: [10, 20, 40, 50]"
      ],
      "metadata": {
        "colab": {
          "base_uri": "https://localhost:8080/"
        },
        "id": "SHH6z_qXEiGg",
        "outputId": "6fd5bd5a-4376-4946-97a5-45ae0dd05a0b"
      },
      "execution_count": null,
      "outputs": [
        {
          "output_type": "stream",
          "name": "stdout",
          "text": [
            "[10, 20, 40, 50]\n"
          ]
        }
      ]
    },
    {
      "cell_type": "code",
      "source": [
        "remove() Method"
      ],
      "metadata": {
        "id": "feSNsCgPEk5i"
      },
      "execution_count": null,
      "outputs": []
    },
    {
      "cell_type": "code",
      "source": [
        "The remove() method removes the first occurrence of the specified value."
      ],
      "metadata": {
        "id": "3ivXJwDqEvTo"
      },
      "execution_count": null,
      "outputs": []
    },
    {
      "cell_type": "code",
      "source": [
        "Example:"
      ],
      "metadata": {
        "id": "yyfcy2ekEyVJ"
      },
      "execution_count": null,
      "outputs": []
    },
    {
      "cell_type": "code",
      "source": [
        "my_list = [10, 20, 30, 40, 50]\n",
        "\n",
        "# Remove the value 30\n",
        "my_list.remove(30)\n",
        "print(my_list)  # Output: [10, 20, 40, 50]"
      ],
      "metadata": {
        "colab": {
          "base_uri": "https://localhost:8080/"
        },
        "id": "gTl-jXjqE3ZZ",
        "outputId": "8ab5663f-c596-4129-a5bf-899d015d209f"
      },
      "execution_count": null,
      "outputs": [
        {
          "output_type": "stream",
          "name": "stdout",
          "text": [
            "[10, 20, 40, 50]\n"
          ]
        }
      ]
    },
    {
      "cell_type": "code",
      "source": [
        "pop() Method\n",
        "The pop() method removes and returns an element at a specific index (default is the last element)."
      ],
      "metadata": {
        "id": "KItQMnmNE5XY"
      },
      "execution_count": null,
      "outputs": []
    },
    {
      "cell_type": "code",
      "source": [
        "Example:"
      ],
      "metadata": {
        "id": "idsV9awRFUgF"
      },
      "execution_count": null,
      "outputs": []
    },
    {
      "cell_type": "code",
      "source": [
        "my_list = [10, 20, 30, 40, 50]\n",
        "\n",
        "# Remove and return the last element\n",
        "last_element = my_list.pop()\n",
        "print(last_element)  # Output: 50\n",
        "print(my_list)  # Output: [10, 20, 30, 40]"
      ],
      "metadata": {
        "colab": {
          "base_uri": "https://localhost:8080/"
        },
        "id": "Q1ov2XJDFZkx",
        "outputId": "262199eb-f4dc-4c5a-90bc-a497feb501a1"
      },
      "execution_count": null,
      "outputs": [
        {
          "output_type": "stream",
          "name": "stdout",
          "text": [
            "50\n",
            "[10, 20, 30, 40]\n"
          ]
        }
      ]
    },
    {
      "cell_type": "code",
      "source": [
        "Deleting Multiple Elements (Slicing)"
      ],
      "metadata": {
        "id": "6IM2yOHXFbl1"
      },
      "execution_count": null,
      "outputs": []
    },
    {
      "cell_type": "code",
      "source": [
        "You can delete multiple elements by assigning an empty list to a slice."
      ],
      "metadata": {
        "id": "CzcXS9hUFg0h"
      },
      "execution_count": null,
      "outputs": []
    },
    {
      "cell_type": "code",
      "source": [
        "Example:"
      ],
      "metadata": {
        "id": "wk3zE-VbFiHB"
      },
      "execution_count": null,
      "outputs": []
    },
    {
      "cell_type": "code",
      "source": [
        "my_list = [10, 20, 30, 40, 50]\n",
        "\n",
        "# Delete elements from index 1 to 3\n",
        "my_list[1:4] = []\n",
        "print(my_list)  # Output: [10, 50]"
      ],
      "metadata": {
        "colab": {
          "base_uri": "https://localhost:8080/"
        },
        "id": "cEf5syvPFlUp",
        "outputId": "a6ab45ba-2db1-4cab-c28b-9e218ed9c6bb"
      },
      "execution_count": null,
      "outputs": [
        {
          "output_type": "stream",
          "name": "stdout",
          "text": [
            "[10, 50]\n"
          ]
        }
      ]
    },
    {
      "cell_type": "code",
      "source": [
        "Summary:\n",
        "A. Accessing: Use indexing (list[index]) or slicing (list[start:end]).\n",
        "B. Modifying: Assign new values to indices or slices (list[index] = new_value or list[start:end] = new_values).\n",
        "C. Deleting: Use del, remove(), pop(), or slicing (list[start:end] = []).\n"
      ],
      "metadata": {
        "id": "835R4n61FnqP"
      },
      "execution_count": null,
      "outputs": []
    },
    {
      "cell_type": "markdown",
      "source": [
        "These methods give you full control over list manipulation.\n"
      ],
      "metadata": {
        "id": "lAtYq8uKGFnJ"
      }
    },
    {
      "cell_type": "markdown",
      "source": [
        "4. Compare and contrast tuples and lists with examples?\n",
        "\n",
        "\n"
      ],
      "metadata": {
        "id": "4Faz0gURGMlZ"
      }
    },
    {
      "cell_type": "markdown",
      "source": [
        "Both tuples and lists are data structures in Python that allow you to store a collection of items. However, they differ in several key aspects such as mutability, syntax, performance, and usage. Let’s dive into the details.\n",
        "\n"
      ],
      "metadata": {
        "id": "Ahtg9SK7HzAJ"
      }
    },
    {
      "cell_type": "code",
      "source": [
        "1. Mutability"
      ],
      "metadata": {
        "id": "3iwMKvpGH1PK"
      },
      "execution_count": null,
      "outputs": []
    },
    {
      "cell_type": "code",
      "source": [
        "A. Lists: Mutable, meaning the contents of a list can be changed after its creation (you can add, remove, or modify elements).\n",
        "B. Tuples: Immutable, meaning once a tuple is created, you cannot change its contents (you cannot add, remove, or modify elements).\n"
      ],
      "metadata": {
        "id": "w__Ur61PH3gg"
      },
      "execution_count": null,
      "outputs": []
    },
    {
      "cell_type": "code",
      "source": [
        "Example:"
      ],
      "metadata": {
        "id": "Wm7ihNUaH_OA"
      },
      "execution_count": null,
      "outputs": []
    },
    {
      "cell_type": "code",
      "source": [
        "# List\n",
        "my_list = [1, 2, 3]\n",
        "my_list[0] = 10  # Modifying an element\n",
        "print(my_list)  # Output: [10, 2, 3]\n",
        "\n",
        "# Tuple\n",
        "my_tuple = (1, 2, 3)\n",
        "# my_tuple[0] = 10  # Uncommenting this will cause a TypeError because tuples are immutable"
      ],
      "metadata": {
        "id": "yp76IaQ4ICT9"
      },
      "execution_count": null,
      "outputs": []
    },
    {
      "cell_type": "code",
      "source": [
        "2. Syntax"
      ],
      "metadata": {
        "id": "XX4e5w5wIE_8"
      },
      "execution_count": null,
      "outputs": []
    },
    {
      "cell_type": "code",
      "source": [
        "A. Lists: Created using square brackets [].\n",
        "B. Tuples: Created using parentheses ()."
      ],
      "metadata": {
        "id": "1NQQFbRaIJEh"
      },
      "execution_count": null,
      "outputs": []
    },
    {
      "cell_type": "code",
      "source": [
        "Example:"
      ],
      "metadata": {
        "id": "IO-gLwVWIN7b"
      },
      "execution_count": null,
      "outputs": []
    },
    {
      "cell_type": "code",
      "source": [
        "# List\n",
        "my_list = [1, 2, 3]\n",
        "\n",
        "# Tuple\n",
        "my_tuple = (1, 2, 3)"
      ],
      "metadata": {
        "id": "pIpaRzRpGEfp"
      },
      "execution_count": null,
      "outputs": []
    },
    {
      "cell_type": "code",
      "source": [
        "3. Performance\n",
        "A. Lists: Generally slower than tuples when iterating or performing operations due to their mutability (they use more memory and have overhead for resizing).\n",
        "B. Tuples: Faster due to their immutability and fixed size.\n"
      ],
      "metadata": {
        "id": "u6nYCitKITHv"
      },
      "execution_count": null,
      "outputs": []
    },
    {
      "cell_type": "code",
      "source": [
        "Example: If you don’t need to modify the data, tuples are preferred for efficiency."
      ],
      "metadata": {
        "id": "gBQBz2vQIVdg"
      },
      "execution_count": null,
      "outputs": []
    },
    {
      "cell_type": "code",
      "source": [
        "import timeit\n",
        "\n",
        "# Measure time for a list\n",
        "list_time = timeit.timeit(stmt=\"[1, 2, 3, 4, 5]\", number=1000000)\n",
        "\n",
        "# Measure time for a tuple\n",
        "tuple_time = timeit.timeit(stmt=\"(1, 2, 3, 4, 5)\", number=1000000)\n",
        "\n",
        "print(f\"List time: {list_time}\")\n",
        "print(f\"Tuple time: {tuple_time}\")"
      ],
      "metadata": {
        "id": "3y4lYBVeIdQ4"
      },
      "execution_count": null,
      "outputs": []
    },
    {
      "cell_type": "code",
      "source": [
        "4. Usage\n",
        "A. Lists: Used when the collection of items is expected to change over time, such as appending new elements or removing items.\n",
        "B. Tuples: Used when the collection of items is fixed and should not change, or when you want to ensure immutability for safety (e.g., coordinates, function returns).\n"
      ],
      "metadata": {
        "id": "bEZI5LwvIfVi"
      },
      "execution_count": null,
      "outputs": []
    },
    {
      "cell_type": "code",
      "source": [
        "Example:"
      ],
      "metadata": {
        "id": "fni2f7BBIiUo"
      },
      "execution_count": null,
      "outputs": []
    },
    {
      "cell_type": "code",
      "source": [
        "# List example: a shopping cart that can change\n",
        "shopping_cart = [\"apple\", \"banana\", \"milk\"]\n",
        "shopping_cart.append(\"bread\")  # Adding an item\n",
        "print(shopping_cart)  # Output: ['apple', 'banana', 'milk', 'bread']\n",
        "\n",
        "# Tuple example: GPS coordinates that shouldn't change\n",
        "coordinates = (40.7128, 74.0060)"
      ],
      "metadata": {
        "id": "owT1n8L2IrFg"
      },
      "execution_count": null,
      "outputs": []
    },
    {
      "cell_type": "code",
      "source": [
        "5. Methods\n",
        "A. Lists: Have a variety of methods to manipulate the data, such as .append(), .remove(), .sort(), etc.\n",
        "B. Tuples: Have fewer methods because of their immutability. They support only methods like .count() and .index()."
      ],
      "metadata": {
        "id": "WU9aN9SMIsuv"
      },
      "execution_count": null,
      "outputs": []
    },
    {
      "cell_type": "code",
      "source": [
        "Example:"
      ],
      "metadata": {
        "id": "S6WYhgYYIv91"
      },
      "execution_count": null,
      "outputs": []
    },
    {
      "cell_type": "code",
      "source": [
        "# List methods\n",
        "my_list = [1, 2, 3]\n",
        "my_list.append(4)\n",
        "print(my_list)  # Output: [1, 2, 3, 4]\n",
        "\n",
        "# Tuple methods\n",
        "my_tuple = (1, 2, 3)\n",
        "print(my_tuple.count(1))  # Output: 1"
      ],
      "metadata": {
        "colab": {
          "base_uri": "https://localhost:8080/"
        },
        "id": "OX_moy5WI9Hw",
        "outputId": "a61bf5bc-32cf-4468-8c26-feabdb44544e"
      },
      "execution_count": null,
      "outputs": [
        {
          "output_type": "stream",
          "name": "stdout",
          "text": [
            "[1, 2, 3, 4]\n",
            "1\n"
          ]
        }
      ]
    },
    {
      "cell_type": "code",
      "source": [
        "6. Size\n",
        "A. Lists: Can grow and shrink as needed since they are dynamic.\n",
        "B. Tuples: Fixed size once created."
      ],
      "metadata": {
        "id": "7fvhnpO_JBP6"
      },
      "execution_count": null,
      "outputs": []
    },
    {
      "cell_type": "code",
      "source": [
        "Summary Table:\n",
        "Feature\tList\tTuple\n",
        "Mutability\tMutable\tImmutable\n",
        "Syntax\t[]\t()\n",
        "Performance\tSlower (more overhead)\tFaster (less overhead)\n",
        "Use case\tDynamic data\tFixed data\n",
        "Methods\tMany methods (e.g., .append(), .remove())\tFewer methods (.count(), .index())"
      ],
      "metadata": {
        "id": "wum-EaEiJdFg"
      },
      "execution_count": null,
      "outputs": []
    },
    {
      "cell_type": "markdown",
      "source": [
        "In general, use lists when you need a dynamic, modifiable sequence of elements, and use tuples when you want a fixed, immutable set of elements that ensures data integrity."
      ],
      "metadata": {
        "id": "OVS2BXZxJyQP"
      }
    },
    {
      "cell_type": "markdown",
      "source": [
        "5. Describe the key features of sets and provide examples of their used ?"
      ],
      "metadata": {
        "id": "1psIGoOYFVC6"
      }
    },
    {
      "cell_type": "markdown",
      "source": [
        "Key Features of Sets:\n"
      ],
      "metadata": {
        "id": "a0-fsvHyFbnY"
      }
    },
    {
      "cell_type": "code",
      "source": [
        "1. Unordered Collection:\n",
        "\n",
        "Sets are unordered, meaning the elements inside a set do not follow any specific sequence or order. Unlike lists or tuples, where the order matters, sets do not maintain the insertion order.\n"
      ],
      "metadata": {
        "id": "WGc-ziHvJqBI"
      },
      "execution_count": null,
      "outputs": []
    },
    {
      "cell_type": "code",
      "source": [
        "2. Unique Elements:\n",
        "\n",
        "Sets store only unique elements. Duplicates are automatically removed when added to a set. For example, {1, 2, 2, 3} will be stored as {1, 2, 3}.\n"
      ],
      "metadata": {
        "id": "Z00EVHMoFhdn"
      },
      "execution_count": null,
      "outputs": []
    },
    {
      "cell_type": "code",
      "source": [
        "3. Mutable:\n",
        "\n",
        "While the elements of a set must be immutable (i.e., elements like strings, numbers, or tuples), the set itself is mutable, meaning that elements can be added or removed after the set is created.\n"
      ],
      "metadata": {
        "id": "O3iKisPUFj4n"
      },
      "execution_count": null,
      "outputs": []
    },
    {
      "cell_type": "code",
      "source": [
        "4. No Indexing or Slicing:\n",
        "\n",
        "Unlike lists or tuples, sets do not support indexing or slicing. Since they are unordered, accessing an element by position does not apply."
      ],
      "metadata": {
        "id": "l0DWCtnBFomI"
      },
      "execution_count": null,
      "outputs": []
    },
    {
      "cell_type": "code",
      "source": [
        "5. Operations on Sets:\n",
        "\n",
        "A. Sets support various operations like union, intersection, difference, and symmetric difference, which are similar to mathematical set operations:\n",
        "B. Union (A | B): Combines elements from both sets.\n",
        "C. Intersection (A & B): Elements common to both sets.\n",
        "D. Difference (A - B): Elements in one set but not the other.\n",
        "E. Symmetric Difference (A ^ B): Elements in either set, but not in both.\n"
      ],
      "metadata": {
        "id": "adZRo_yyFr15"
      },
      "execution_count": null,
      "outputs": []
    },
    {
      "cell_type": "code",
      "source": [
        "6. Dynamic Resizing:\n",
        "\n",
        "Sets automatically adjust their size as elements are added or removed. This flexibility allows them to efficiently handle a varying number of elements."
      ],
      "metadata": {
        "id": "XSKEw18_FyeI"
      },
      "execution_count": null,
      "outputs": []
    },
    {
      "cell_type": "code",
      "source": [
        "Examples of Set Usage:"
      ],
      "metadata": {
        "id": "5mmdlyL0F2GA"
      },
      "execution_count": null,
      "outputs": []
    },
    {
      "cell_type": "code",
      "source": [
        "1. Removing Duplicates:\n",
        "\n",
        "When dealing with collections of data, sets can be used to automatically remove duplicates:\n"
      ],
      "metadata": {
        "id": "HtNG7vnTF6Fa"
      },
      "execution_count": null,
      "outputs": []
    },
    {
      "cell_type": "code",
      "source": [
        "numbers = [1, 2, 2, 3, 4, 4, 5]\n",
        "unique_numbers = set(numbers)  # Result: {1, 2, 3, 4, 5}"
      ],
      "metadata": {
        "id": "xa_AXNo2F-lR"
      },
      "execution_count": null,
      "outputs": []
    },
    {
      "cell_type": "code",
      "source": [
        "2. Set Operations:\n",
        "\n",
        " Union of two sets:"
      ],
      "metadata": {
        "id": "PyQntfyJGBHg"
      },
      "execution_count": null,
      "outputs": []
    },
    {
      "cell_type": "code",
      "source": [
        "A = {1, 2, 3}\n",
        "B = {3, 4, 5}\n",
        "result = A | B  # Result: {1, 2, 3, 4, 5}"
      ],
      "metadata": {
        "id": "7xcXdikGGJBr"
      },
      "execution_count": null,
      "outputs": []
    },
    {
      "cell_type": "code",
      "source": [
        "Intersection of two sets:"
      ],
      "metadata": {
        "id": "HQHt_TGcGU2w"
      },
      "execution_count": null,
      "outputs": []
    },
    {
      "cell_type": "code",
      "source": [
        "A = {1, 2, 3}\n",
        "B = {2, 3, 4}\n",
        "result = A & B  # Result: {2, 3}"
      ],
      "metadata": {
        "id": "NTNpFF_VGXuP"
      },
      "execution_count": null,
      "outputs": []
    },
    {
      "cell_type": "code",
      "source": [
        "3. Membership Testing:\n",
        "\n",
        "Sets provide a fast way to test if an element is present:"
      ],
      "metadata": {
        "id": "39EOwHVqGZYv"
      },
      "execution_count": null,
      "outputs": []
    },
    {
      "cell_type": "code",
      "source": [
        "fruits = {\"apple\", \"banana\", \"cherry\"}\n",
        "if \"banana\" in fruits:\n",
        "    print(\"Banana is in the set\")"
      ],
      "metadata": {
        "id": "iPSeJ4CSGeGZ"
      },
      "execution_count": null,
      "outputs": []
    },
    {
      "cell_type": "code",
      "source": [
        "4. Unique Words in a Text:\n",
        "\n",
        "Sets are useful when you want to find all unique words in a piece of text:"
      ],
      "metadata": {
        "id": "Cco9ozZ9Gf6a"
      },
      "execution_count": null,
      "outputs": []
    },
    {
      "cell_type": "code",
      "source": [
        "text = \"hello world hello everyone\"\n",
        "words = text.split()\n",
        "unique_words = set(words)  # Result: {'hello', 'world', 'everyone'}"
      ],
      "metadata": {
        "id": "tb3CaN3OGmEo"
      },
      "execution_count": null,
      "outputs": []
    },
    {
      "cell_type": "code",
      "source": [
        "5. Data Comparison:\n",
        "\n",
        "Sets can be used to find common or differing data between two datasets. For example, comparing two customer lists to find overlap\n",
        " (common customers) or differences (customers who are only in one dataset but not the other)."
      ],
      "metadata": {
        "id": "45OH1RTrGrKb"
      },
      "execution_count": null,
      "outputs": []
    },
    {
      "cell_type": "markdown",
      "source": [
        "Sets are particularly valuable in scenarios where uniqueness, fast membership checks, and mathematical set operations are required."
      ],
      "metadata": {
        "id": "R9tID2fmG6x4"
      }
    },
    {
      "cell_type": "markdown",
      "source": [
        " 6. Discuss the use cases of tuples and sets in Python programming?\n"
      ],
      "metadata": {
        "id": "6L8-p46xG-Xy"
      }
    },
    {
      "cell_type": "markdown",
      "source": [
        "In Python, both tuples and sets are fundamental data structures, each serving different purposes based on their properties. Below are the key use cases for each:\n",
        "\n"
      ],
      "metadata": {
        "id": "5bUm7JXrHP64"
      }
    },
    {
      "cell_type": "code",
      "source": [
        "1. Tuples\n",
        "\n",
        "Tuples are immutable, ordered sequences of elements. Once a tuple is created, you cannot modify its elements (i.e., add, remove, or change items).\n",
        "Here are some common use cases for tuples:"
      ],
      "metadata": {
        "id": "a9hGxb4zHTPg"
      },
      "execution_count": null,
      "outputs": []
    },
    {
      "cell_type": "code",
      "source": [
        " Use Cases:\n",
        "\n",
        "A. Fixed Collections of Data:\n",
        "\n",
        "   Since tuples are immutable, they are great for representing fixed collections of items that should not be modified.\n",
        "   For instance, storing coordinates (x, y) or RGB values (255, 0, 0) in a tuple ensures that the data remains consistent.\n"
      ],
      "metadata": {
        "id": "IWuFpMhyHZl4"
      },
      "execution_count": null,
      "outputs": []
    },
    {
      "cell_type": "code",
      "source": [
        "B. Return Multiple Values from Functions:\n",
        "\n",
        "Tuples are often used when a function needs to return multiple values. For example, a function returning a tuple (max, min) can easily return\n",
        "two values without needing to use a custom object."
      ],
      "metadata": {
        "id": "uzGEhAk4Hieo"
      },
      "execution_count": null,
      "outputs": []
    },
    {
      "cell_type": "code",
      "source": [
        "C. Heterogeneous Data:\n",
        "\n",
        "Tuples are ideal for holding data that might be heterogeneous (data of different types).\n",
        "For instance, you can store a combination of strings, numbers, and other types in one tuple, such as (\"John\", 35, True)."
      ],
      "metadata": {
        "id": "0FbcTu2HHvk4"
      },
      "execution_count": null,
      "outputs": []
    },
    {
      "cell_type": "code",
      "source": [
        "D. Dictionary Keys (Hashable Data):\n",
        "\n",
        "Since tuples are hashable (i.e., their values cannot change), they can be used as keys in dictionaries.\n",
        "This is particularly useful when you need a composite key to represent something complex, like coordinates[(3, 5)].\n"
      ],
      "metadata": {
        "id": "IiiC5J6XH194"
      },
      "execution_count": null,
      "outputs": []
    },
    {
      "cell_type": "code",
      "source": [
        "E. Efficient Memory Usage:\n",
        "\n",
        "Because of their immutability and fixed size, tuples are more memory-efficient than lists.\n",
        "If the collection is not expected to change, using a tuple can save memory, especially in large datasets.\n"
      ],
      "metadata": {
        "id": "tdo-EltMH_mQ"
      },
      "execution_count": null,
      "outputs": []
    },
    {
      "cell_type": "code",
      "source": [
        "Example:"
      ],
      "metadata": {
        "id": "uz3SOJ_vIGgQ"
      },
      "execution_count": null,
      "outputs": []
    },
    {
      "cell_type": "code",
      "source": [
        "person_info = (\"John\", 30, \"Engineer\")\n",
        "coordinates = (10, 20)"
      ],
      "metadata": {
        "id": "3p9S4bR-IIu5"
      },
      "execution_count": null,
      "outputs": []
    },
    {
      "cell_type": "code",
      "source": [
        "2. Sets"
      ],
      "metadata": {
        "id": "iaCk768uIKZ-"
      },
      "execution_count": null,
      "outputs": []
    },
    {
      "cell_type": "code",
      "source": [
        "Sets are mutable, unordered collections of unique elements.\n",
        "They are particularly useful when you need to work with distinct items or perform mathematical operations like union, intersection, etc."
      ],
      "metadata": {
        "id": "gzilV_YEINoQ"
      },
      "execution_count": null,
      "outputs": []
    },
    {
      "cell_type": "code",
      "source": [
        "Use Cases:\n",
        "\n",
        "A. Removing Duplicates:\n",
        "\n",
        "A common use case for sets is to automatically remove duplicate values from a list or another collection.\n",
        "For example, converting a list of values into a set will eliminate duplicates."
      ],
      "metadata": {
        "id": "ziR2VSWBIRio"
      },
      "execution_count": null,
      "outputs": []
    },
    {
      "cell_type": "code",
      "source": [
        "B. Membership Testing:\n",
        "\n",
        "Sets allow very efficient membership testing. If you need to check if a value is part of a collection, sets perform this operation faster than lists or tuples.\n",
        "For example, you can use sets to quickly check if a value exists in a large dataset.\n"
      ],
      "metadata": {
        "id": "iIDyuR4DIlZo"
      },
      "execution_count": null,
      "outputs": []
    },
    {
      "cell_type": "code",
      "source": [
        "C. Mathematical Set Operations:\n",
        "\n",
        "1) Sets support operations like union, intersection, and difference. These operations are useful when working with different groups of data that need to be combined, compared, or distinguished.\n",
        "2) Union: Combine all unique elements from two sets.\n",
        "3) Intersection: Find common elements between two sets.\n",
        "4) Difference: Identify elements present in one set but not the other.\n"
      ],
      "metadata": {
        "id": "bb901P52Ih6K"
      },
      "execution_count": null,
      "outputs": []
    },
    {
      "cell_type": "code",
      "source": [
        "D. Filtering Data:\n",
        "\n",
        " Sets can be used to filter out unwanted elements or find common items between datasets.\n",
        " For example, to find common friends between two users in a social network, you can use set intersections."
      ],
      "metadata": {
        "id": "zXi0-bOAI5Uy"
      },
      "execution_count": null,
      "outputs": []
    },
    {
      "cell_type": "code",
      "source": [
        "Example:-"
      ],
      "metadata": {
        "id": "InhBR_BuI_Mx"
      },
      "execution_count": null,
      "outputs": []
    },
    {
      "cell_type": "code",
      "source": [
        "numbers = {1, 2, 3, 4}\n",
        "odd_numbers = {1, 3, 5}\n",
        "\n",
        "# Union\n",
        "all_numbers = numbers | odd_numbers  # {1, 2, 3, 4, 5}\n",
        "\n",
        "# Intersection\n",
        "common_numbers = numbers & odd_numbers  # {1, 3}\n",
        "\n",
        "# Difference\n",
        "unique_to_numbers = numbers - odd_numbers  # {2, 4}"
      ],
      "metadata": {
        "id": "L2vzubKbJBfQ"
      },
      "execution_count": null,
      "outputs": []
    },
    {
      "cell_type": "code",
      "source": [
        "Key Differences:\n",
        "1) Mutability:\n",
        "   Tuples are immutable, while sets are mutable.\n",
        "2) Order:\n",
        "   Tuples maintain order, but sets do not.\n",
        "3) Duplicates:\n",
        "   Tuples allow duplicates, but sets automatically remove any duplicates."
      ],
      "metadata": {
        "id": "gxYXvocvJEh4"
      },
      "execution_count": null,
      "outputs": []
    },
    {
      "cell_type": "markdown",
      "source": [
        "Summary:\n",
        "\n",
        "1) Use tuples when you need an ordered, immutable collection, especially when returning multiple values or using as dictionary keys.\n",
        "\n",
        "2) Use sets when you need an unordered collection of unique elements, especially for operations like removing duplicates, membership testing, and performing set-based operations like union and intersection.\n",
        "\n",
        "\n",
        "\n",
        "\n",
        "\n"
      ],
      "metadata": {
        "id": "XXvfhKt6JQBy"
      }
    },
    {
      "cell_type": "markdown",
      "source": [
        " 7. Describe how to add, modify and delete items in a dictionary with examples?\n",
        "\n"
      ],
      "metadata": {
        "id": "uV4NeruYVM7w"
      }
    },
    {
      "cell_type": "markdown",
      "source": [
        "A dictionary in Python is a collection of key-value pairs, where each key is unique. You can add, modify, or delete items in a dictionary easily. Here’s a detailed explanation with examples:\n"
      ],
      "metadata": {
        "id": "y5sMI8MSVRhb"
      }
    },
    {
      "cell_type": "markdown",
      "source": [
        "1. 1. Adding Items to a Dictionary"
      ],
      "metadata": {
        "id": "54tzRpZFVje7"
      }
    },
    {
      "cell_type": "code",
      "source": [
        "To add a new key-value pair to a dictionary, you can assign a value to a new key using square brackets []:"
      ],
      "metadata": {
        "id": "yXdTNuGYVmIK"
      },
      "execution_count": null,
      "outputs": []
    },
    {
      "cell_type": "code",
      "source": [
        "Example:"
      ],
      "metadata": {
        "id": "tJ2-Tw5sVpnz"
      },
      "execution_count": null,
      "outputs": []
    },
    {
      "cell_type": "code",
      "source": [
        "# Creating an empty dictionary\n",
        "my_dict = {}\n",
        "\n",
        "# Adding a key-value pair\n",
        "my_dict['name'] = 'John'\n",
        "my_dict['age'] = 25\n",
        "\n",
        "print(my_dict)"
      ],
      "metadata": {
        "id": "FISFS_QdVXDz"
      },
      "execution_count": null,
      "outputs": []
    },
    {
      "cell_type": "code",
      "source": [
        "{'name': 'John', 'age': 25}"
      ],
      "metadata": {
        "id": "A21S3YJ-V3si"
      },
      "execution_count": null,
      "outputs": []
    },
    {
      "cell_type": "code",
      "source": [
        "In this example, we added the key 'name' with the value 'John' and the key 'age' with the value 25 to the dictionary."
      ],
      "metadata": {
        "id": "yEiN_H_YV6YL"
      },
      "execution_count": null,
      "outputs": []
    },
    {
      "cell_type": "markdown",
      "source": [
        "2. Modifying Items in a **Dictionary**"
      ],
      "metadata": {
        "id": "XRBKKIIzWIKr"
      }
    },
    {
      "cell_type": "code",
      "source": [
        "To modify an existing item in a dictionary, assign a new value to an existing key:\n",
        "\n",
        "Example:"
      ],
      "metadata": {
        "id": "IwZ6Tn8zV-wy"
      },
      "execution_count": null,
      "outputs": []
    },
    {
      "cell_type": "code",
      "source": [
        "# Dictionary with initial values\n",
        "my_dict = {'name': 'John', 'age': 25}\n",
        "\n",
        "# Modifying the value of an existing key\n",
        "my_dict['age'] = 26\n",
        "\n",
        "print(my_dict)"
      ],
      "metadata": {
        "id": "D_Y5mUJkWRFy"
      },
      "execution_count": null,
      "outputs": []
    },
    {
      "cell_type": "code",
      "source": [
        "Output:"
      ],
      "metadata": {
        "id": "TrqrUThaWdq6"
      },
      "execution_count": null,
      "outputs": []
    },
    {
      "cell_type": "code",
      "source": [
        "{'name': 'John', 'age': 26}"
      ],
      "metadata": {
        "id": "C3zdGf3nWhAb"
      },
      "execution_count": null,
      "outputs": []
    },
    {
      "cell_type": "code",
      "source": [
        "Here, we modified the value associated with the key 'age' from 25 to 26."
      ],
      "metadata": {
        "id": "ciwSlCcAWjFy"
      },
      "execution_count": null,
      "outputs": []
    },
    {
      "cell_type": "markdown",
      "source": [
        "3. Deleting Items from a Dictionary\n",
        "\n"
      ],
      "metadata": {
        "id": "Sz99cJw2WnNj"
      }
    },
    {
      "cell_type": "code",
      "source": [
        "You can delete an item from a dictionary using the del statement or the .pop() method."
      ],
      "metadata": {
        "id": "IQNvLE1jW2Wj"
      },
      "execution_count": null,
      "outputs": []
    },
    {
      "cell_type": "code",
      "source": [
        "Using del:"
      ],
      "metadata": {
        "id": "2EACaUadW9dL"
      },
      "execution_count": null,
      "outputs": []
    },
    {
      "cell_type": "code",
      "source": [
        "# Dictionary with initial values\n",
        "my_dict = {'name': 'John', 'age': 26, 'city': 'New York'}\n",
        "\n",
        "# Deleting an item\n",
        "del my_dict['city']\n",
        "\n",
        "print(my_dict)"
      ],
      "metadata": {
        "id": "XlxipBfrW_W0"
      },
      "execution_count": null,
      "outputs": []
    },
    {
      "cell_type": "code",
      "source": [
        "Output:"
      ],
      "metadata": {
        "id": "C78WhLKDXGeT"
      },
      "execution_count": null,
      "outputs": []
    },
    {
      "cell_type": "code",
      "source": [
        "{'name': 'John', 'age': 26}"
      ],
      "metadata": {
        "id": "J_92OptSXIpT"
      },
      "execution_count": null,
      "outputs": []
    },
    {
      "cell_type": "code",
      "source": [
        "The del statement removes the key 'city' and its associated value from the dictionary.\n",
        "\n",
        "Using .pop():\n",
        "The .pop() method removes an item by key and returns its value."
      ],
      "metadata": {
        "id": "pP085b2IXLSr"
      },
      "execution_count": null,
      "outputs": []
    },
    {
      "cell_type": "code",
      "source": [
        "# Removing an item using pop()\n",
        "removed_value = my_dict.pop('age')\n",
        "\n",
        "print(removed_value)  # Output: 26\n",
        "print(my_dict)        # Output: {'name': 'John'}"
      ],
      "metadata": {
        "id": "dVTW6s0TXPOL"
      },
      "execution_count": null,
      "outputs": []
    },
    {
      "cell_type": "code",
      "source": [
        "The .pop() method removed the key 'age' and returned its value (26), while also updating the dictionary."
      ],
      "metadata": {
        "id": "-tbyoX5dXRID"
      },
      "execution_count": null,
      "outputs": []
    },
    {
      "cell_type": "markdown",
      "source": [
        "Additional Notes:"
      ],
      "metadata": {
        "id": "OWlbOWKLXWU0"
      }
    },
    {
      "cell_type": "code",
      "source": [
        "To clear all items from a dictionary, you can use the .clear() method:"
      ],
      "metadata": {
        "id": "7VoeuBgBXUkb"
      },
      "execution_count": null,
      "outputs": []
    },
    {
      "cell_type": "code",
      "source": [
        "my_dict.clear()\n",
        "print(my_dict)  # Output: {}"
      ],
      "metadata": {
        "id": "JH40XmP9XaOy"
      },
      "execution_count": null,
      "outputs": []
    },
    {
      "cell_type": "markdown",
      "source": [
        "Now you know how to add, modify, and delete items in a dictionary in Python!"
      ],
      "metadata": {
        "id": "4mWN1g9QXdab"
      }
    },
    {
      "cell_type": "markdown",
      "source": [
        "8.  Discuss the importance of dictionary keys being immutable and provide examples ?"
      ],
      "metadata": {
        "id": "5UMJIMbOYJts"
      }
    },
    {
      "cell_type": "markdown",
      "source": [
        "In Python, dictionary keys must be immutable, meaning they cannot be modified after they are created. This immutability is crucial because of how dictionaries work internally."
      ],
      "metadata": {
        "id": "1-auoAeNYtQM"
      }
    },
    {
      "cell_type": "markdown",
      "source": [
        "Why Dictionary Keys Must Be Immutable:"
      ],
      "metadata": {
        "id": "1GHeZ146Y88z"
      }
    },
    {
      "cell_type": "code",
      "source": [
        "1. Hashing:\n",
        "\n",
        "A. A dictionary in Python is implemented as a hash table, where each key is mapped to a value.\n",
        "   For a dictionary to perform fast lookups, each key is hashed using a hash function, which generates a unique identifier (a \"hash\").\n",
        "   This hash is then used to quickly locate the associated value in the dictionary.\n",
        "\n",
        "B.  If a key were mutable, its hash value could change if the object was modified after being used as a key.\n",
        "    This would break the internal mapping and make the key unretrievable or lead to inconsistencies.\n"
      ],
      "metadata": {
        "id": "0KWZ7_YpZKsl"
      },
      "execution_count": null,
      "outputs": []
    },
    {
      "cell_type": "code",
      "source": [
        "2. Efficiency:\n",
        "\n",
        "A. Since immutable objects (such as strings, integers, and tuples) cannot change, their hash values remain constant.\n",
        "   This allows the dictionary to maintain fast, reliable access to values associated with the keys.\n",
        "   With mutable objects, the dictionary would need to rehash the key every time it is modified, reducing the overall efficiency.\n"
      ],
      "metadata": {
        "id": "Lhh3GHWMZkbk"
      },
      "execution_count": null,
      "outputs": []
    },
    {
      "cell_type": "code",
      "source": [
        "3. Consistency:\n",
        "\n",
        "  Immutability ensures that a key used to store a value will always map to the same value, providing consistency.\n",
        "  If a mutable object were allowed as a key, changes to the object could lead to unexpected behavior or errors."
      ],
      "metadata": {
        "id": "xzSRYuNoZy9z"
      },
      "execution_count": null,
      "outputs": []
    },
    {
      "cell_type": "code",
      "source": [
        "Examples of Immutable and Mutable Keys:\n",
        "\n",
        "  Immutable Types (Allowed as Dictionary Keys):\n",
        "\n",
        "1) Strings: {\"name\": \"Alice\"} – The string \"name\" is immutable, so it's a valid dictionary key.\n",
        "2) Integers: {1: \"one\", 2: \"two\"} – Integers are immutable.\n",
        "3) Tuples (with immutable elements): {(1, 2): \"point\"} – Tuples are immutable, as long as they contain only immutable elements."
      ],
      "metadata": {
        "id": "sLct6zrJadA7"
      },
      "execution_count": null,
      "outputs": []
    },
    {
      "cell_type": "code",
      "source": [
        "Mutable Types (Not Allowed as Dictionary Keys):"
      ],
      "metadata": {
        "id": "p-XosbI4aqPE"
      },
      "execution_count": null,
      "outputs": []
    },
    {
      "cell_type": "code",
      "source": [
        "Lists: Trying to use a list as a key will raise a TypeError. For example:"
      ],
      "metadata": {
        "id": "rres1Ql0atpT"
      },
      "execution_count": null,
      "outputs": []
    },
    {
      "cell_type": "code",
      "source": [
        "d = {[1, 2]: \"value\"}  # This raises TypeError: unhashable type: 'list'"
      ],
      "metadata": {
        "id": "brI3DLajawGD"
      },
      "execution_count": null,
      "outputs": []
    },
    {
      "cell_type": "code",
      "source": [
        "Dictionaries: Similarly, dictionaries themselves are mutable, so they cannot be used as keys."
      ],
      "metadata": {
        "id": "sESZ0gsBaxsz"
      },
      "execution_count": null,
      "outputs": []
    },
    {
      "cell_type": "markdown",
      "source": [
        "Example of Immutable Key Use:"
      ],
      "metadata": {
        "id": "AevtK7z2a2gG"
      }
    },
    {
      "cell_type": "code",
      "source": [
        "Here’s an example showing why immutability matters:"
      ],
      "metadata": {
        "id": "YMzI33i5a0Lz"
      },
      "execution_count": null,
      "outputs": []
    },
    {
      "cell_type": "code",
      "source": [
        "# Using a tuple (immutable) as a key\n",
        "coordinates = {(40.7128, -74.0060): \"New York\", (34.0522, -118.2437): \"Los Angeles\"}\n",
        "\n",
        "# Tuples are immutable, so this works perfectly\n",
        "print(coordinates[(40.7128, -74.0060)])  # Output: New York"
      ],
      "metadata": {
        "colab": {
          "base_uri": "https://localhost:8080/"
        },
        "id": "AKXOTpEua6TT",
        "outputId": "fdf9fcfa-a604-44f6-9680-360194af9f5a"
      },
      "execution_count": 1,
      "outputs": [
        {
          "output_type": "stream",
          "name": "stdout",
          "text": [
            "New York\n"
          ]
        }
      ]
    },
    {
      "cell_type": "markdown",
      "source": [
        "What Happens with Mutable Keys:\n"
      ],
      "metadata": {
        "id": "Hm-_JXAXbPXL"
      }
    },
    {
      "cell_type": "code",
      "source": [
        "If mutable keys were allowed, the dictionary would break as follows:"
      ],
      "metadata": {
        "id": "PmD_CQKka9Fl"
      },
      "execution_count": null,
      "outputs": []
    },
    {
      "cell_type": "code",
      "source": [
        "# Imagine if lists were allowed as dictionary keys\n",
        "mutable_key = [1, 2, 3]\n",
        "d = {mutable_key: \"value\"}\n",
        "\n",
        "# Modify the key\n",
        "mutable_key.append(4)\n",
        "\n",
        "# Now the dictionary would not know where the key is!\n",
        "print(d[mutable_key])  # This would break if it were allowed"
      ],
      "metadata": {
        "id": "R8b944fXbTt0"
      },
      "execution_count": null,
      "outputs": []
    },
    {
      "cell_type": "code",
      "source": [
        "In this case, after the key is modified, its hash value changes, and the dictionary can no longer locate the original key."
      ],
      "metadata": {
        "id": "YVXBUa0tbWpL"
      },
      "execution_count": null,
      "outputs": []
    },
    {
      "cell_type": "code",
      "source": [
        "Summary:\n",
        "\n",
        "1) Immutability of dictionary keys is essential for maintaining fast and consistent access to dictionary values.\n",
        "\n",
        "2) Immutable types like strings, integers, and tuples are allowed as keys because they guarantee that the hash value remains constant.\n",
        "\n",
        "3) Mutable types like lists and dictionaries are disallowed as keys to prevent unpredictable behavior and performance degradation."
      ],
      "metadata": {
        "id": "WT_ASvOGbZON"
      },
      "execution_count": null,
      "outputs": []
    }
  ]
}